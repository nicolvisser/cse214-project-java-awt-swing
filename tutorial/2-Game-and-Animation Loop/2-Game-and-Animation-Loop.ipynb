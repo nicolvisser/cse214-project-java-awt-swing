{
 "cells": [
  {
   "cell_type": "markdown",
   "metadata": {},
   "source": [
    "# Game and Animation Loop"
   ]
  },
  {
   "cell_type": "markdown",
   "metadata": {},
   "source": [
    "Firstly setup a JFrame and JPanel **as in previous tutorial**"
   ]
  },
  {
   "cell_type": "markdown",
   "metadata": {},
   "source": [
    "Import these libraries:"
   ]
  },
  {
   "cell_type": "code",
   "execution_count": null,
   "metadata": {},
   "outputs": [],
   "source": [
    "import java.awt.*;\n",
    "import javax.swing.*;"
   ]
  },
  {
   "cell_type": "markdown",
   "metadata": {},
   "source": [
    "Then add the following to your main method:"
   ]
  },
  {
   "cell_type": "code",
   "execution_count": null,
   "metadata": {},
   "outputs": [],
   "source": [
    "JFrame frame = new JFrame(\"My Frame\");\n",
    "frame.setPreferredSize(new Dimension(500, 500));\n",
    "frame.setResizable(false);\n",
    "frame.pack();\n",
    "frame.setVisible(true);\n",
    "\n",
    "JPanel panel = new JPanel();\n",
    "panel.setPreferredSize(new Dimension(500, 500));\n",
    "\n",
    "frame.add(panel);\n",
    "frame.pack();\n",
    "\n",
    "frame.setIgnoreRepaint(true);\n",
    "panel.setIgnoreRepaint(true);"
   ]
  },
  {
   "cell_type": "markdown",
   "metadata": {},
   "source": [
    "Currently our JFrame's content is static.\n",
    "\n",
    "For a game or animation, we need a way for the program to **repeatedly** update its state and then draw (or render) the new state to the screen (graphics object of frame/panel). We thus idealy want an `update()` function and a `draw(Graphics2D g2)` function."
   ]
  },
  {
   "cell_type": "markdown",
   "metadata": {},
   "source": [
    "Create a loop that wil repeatedly run and then sleep for 50ms. "
   ]
  },
  {
   "cell_type": "code",
   "execution_count": null,
   "metadata": {},
   "outputs": [],
   "source": [
    "while (true) {\n",
    "\n",
    "    // code goes here\n",
    "\n",
    "    Thread.sleep(50);\n",
    "}"
   ]
  },
  {
   "cell_type": "markdown",
   "metadata": {},
   "source": [
    "Now add a functions for updating and drawing. For the moment we will be accessing these methods from a static main method, therefore these functions need to be static as well. Implement them in the game loop."
   ]
  },
  {
   "cell_type": "code",
   "execution_count": null,
   "metadata": {},
   "outputs": [],
   "source": [
    "static void update() {\n",
    "\n",
    "    // updates to game state goes here\n",
    "\n",
    "}"
   ]
  },
  {
   "cell_type": "code",
   "execution_count": null,
   "metadata": {},
   "outputs": [],
   "source": [
    "static void draw(Graphics2D g2) {\n",
    "\n",
    "    // drawing code goes here\n",
    "\n",
    "}"
   ]
  },
  {
   "cell_type": "code",
   "execution_count": null,
   "metadata": {},
   "outputs": [],
   "source": [
    "while (true) {\n",
    "\n",
    "    // update game parameters\n",
    "    update();\n",
    "\n",
    "    // draw current state to graphics object\n",
    "    Graphics2D g2 = (Graphics2D) panel.getGraphics();\n",
    "    draw(g2);\n",
    "    g2.dispose();\n",
    "\n",
    "    Thread.sleep(50);\n",
    "}"
   ]
  },
  {
   "cell_type": "markdown",
   "metadata": {},
   "source": [
    "Now lets animate something. e.g. A circle moving from top-left to bottom-right of screen."
   ]
  },
  {
   "cell_type": "markdown",
   "metadata": {},
   "source": [
    "Note the coordinate system used by java.awt and javax.swing libraries\n",
    "![awt-coordinate-system](img/awt-coordinate-system.png)\n",
    "Image source: http://www.greenteapress.com/thinkapjava/html/thinkjava019.html"
   ]
  },
  {
   "cell_type": "markdown",
   "metadata": {},
   "source": [
    "Define initial position x, y of circle as static global variables in Tut2 class"
   ]
  },
  {
   "cell_type": "code",
   "execution_count": null,
   "metadata": {},
   "outputs": [],
   "source": [
    "static int x = 0;\n",
    "static int y = 0;"
   ]
  },
  {
   "cell_type": "markdown",
   "metadata": {},
   "source": [
    "Increment the x and y coordinates in the `update()` method to update the circle's position each frame"
   ]
  },
  {
   "cell_type": "code",
   "execution_count": null,
   "metadata": {},
   "outputs": [],
   "source": [
    "static void update() {\n",
    "\n",
    "    x += 5;\n",
    "    y += 5;\n",
    "}"
   ]
  },
  {
   "cell_type": "markdown",
   "metadata": {},
   "source": [
    "Draw the circle based on the current (yet updated) state using `draw(Graphics2D g2)` method"
   ]
  },
  {
   "cell_type": "code",
   "execution_count": null,
   "metadata": {},
   "outputs": [],
   "source": [
    "static void draw(Graphics2D g2) {\n",
    "\n",
    "    g2.drawOval(x,y,20,20);\n",
    "}"
   ]
  },
  {
   "cell_type": "markdown",
   "metadata": {},
   "source": [
    "Try and compile and the program.\n",
    "\n",
    "You will probably have an issue with the Thread.sleep(50) not being wrapped in a try ... catch\n",
    "\n",
    "    error: unreported exception InterruptedException; must be caught or declared to be thrown\n",
    "        Thread.sleep(50);"
   ]
  },
  {
   "cell_type": "markdown",
   "metadata": {},
   "source": [
    "**For now** just add `throws Exception` to your main method definition to take care of the error.\n",
    "\n",
    "    public static void main(String[] args) throws Exception {\n",
    "        ..."
   ]
  },
  {
   "cell_type": "markdown",
   "metadata": {},
   "source": [
    "Run again and you should see this:\n",
    "\n",
    "![title](img/draw1.png)"
   ]
  },
  {
   "cell_type": "markdown",
   "metadata": {},
   "source": [
    "Add a solid rectangle to act as background and to 'clear' any drawing of previous frame before drawing next. Make it the same size as the frame."
   ]
  },
  {
   "cell_type": "code",
   "execution_count": null,
   "metadata": {},
   "outputs": [],
   "source": [
    "static void draw(Graphics2D g2) {\n",
    "\n",
    "    g2.setColor(Color.WHITE);\n",
    "    g2.fillRect(0, 0, 500, 500);\n",
    "\n",
    "    g2.setColor(Color.BLACK);\n",
    "    g2.drawOval(x, y, 20, 20);\n",
    "\n",
    "}"
   ]
  },
  {
   "cell_type": "markdown",
   "metadata": {},
   "source": [
    "Run again, and you will see more desirable results."
   ]
  },
  {
   "cell_type": "markdown",
   "metadata": {},
   "source": [
    "![title](img/draw2.gif)"
   ]
  },
  {
   "cell_type": "markdown",
   "metadata": {},
   "source": [
    "This loop with update() and draw(Graphics2D g2) method forms the basis to our game and is **critical to understand**. Almost all other classes (e.g. Shooter, Missile, Bunker) will have their own version of a update and draw function that will be somehow called from this game loop."
   ]
  },
  {
   "cell_type": "markdown",
   "metadata": {},
   "source": [
    "### Code\n",
    "\n",
    "    import java.awt.*;\n",
    "    import java.awt.image.*;\n",
    "    import javax.swing.*;\n",
    "\n",
    "    public class Tut2 {\n",
    "\n",
    "        static int x = 0;\n",
    "        static int y = 0;\n",
    "\n",
    "        public static void main(String[] args) throws Exception {\n",
    "\n",
    "            JFrame frame = new JFrame(\"My Frame\");\n",
    "            frame.setPreferredSize(new Dimension(500, 500));\n",
    "            frame.setResizable(false);\n",
    "            frame.pack();\n",
    "            frame.setVisible(true);\n",
    "\n",
    "            JPanel panel = new JPanel();\n",
    "            panel.setPreferredSize(new Dimension(500, 500));\n",
    "\n",
    "            frame.add(panel);\n",
    "            frame.pack();\n",
    "\n",
    "            frame.setIgnoreRepaint(true);\n",
    "            panel.setIgnoreRepaint(true);\n",
    "\n",
    "            while (true) {\n",
    "\n",
    "                // update game parameters\n",
    "                update();\n",
    "\n",
    "                // draw current state to graphics object\n",
    "                Graphics2D g2 = (Graphics2D) frame.getGraphics();\n",
    "                draw(g2);\n",
    "                g2.dispose();\n",
    "\n",
    "                Thread.sleep(50);\n",
    "            }\n",
    "\n",
    "        }\n",
    "\n",
    "        static void update() {\n",
    "            x += 5;\n",
    "            y += 5;\n",
    "        }\n",
    "\n",
    "        static void draw(Graphics2D g2) {\n",
    "\n",
    "            g2.setColor(Color.WHITE);\n",
    "            g2.fillRect(0, 0, 500, 500);\n",
    "\n",
    "        g2.setColor(Color.BLACK);\n",
    "        g2.drawOval(x, y, 20, 20);\n",
    "\n",
    "    }\n",
    "\n",
    "}"
   ]
  },
  {
   "cell_type": "code",
   "execution_count": null,
   "metadata": {},
   "outputs": [],
   "source": []
  }
 ],
 "metadata": {
  "kernelspec": {
   "display_name": "Java",
   "language": "java",
   "name": "java"
  },
  "language_info": {
   "codemirror_mode": "java",
   "file_extension": ".jshell",
   "mimetype": "text/x-java-source",
   "name": "Java",
   "pygments_lexer": "java",
   "version": "14+36-1461"
  }
 },
 "nbformat": 4,
 "nbformat_minor": 2
}
