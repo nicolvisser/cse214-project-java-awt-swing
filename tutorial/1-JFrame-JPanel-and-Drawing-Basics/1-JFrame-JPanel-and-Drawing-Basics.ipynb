{
 "cells": [
  {
   "cell_type": "markdown",
   "metadata": {},
   "source": [
    "# JFrame, JPanel and Drawing Basics:"
   ]
  },
  {
   "cell_type": "code",
   "execution_count": 1,
   "metadata": {},
   "outputs": [],
   "source": [
    "import java.awt.*;"
   ]
  },
  {
   "cell_type": "code",
   "execution_count": 2,
   "metadata": {},
   "outputs": [],
   "source": [
    "import javax.swing.*;"
   ]
  },
  {
   "cell_type": "markdown",
   "metadata": {},
   "source": [
    "## Create JFrame"
   ]
  },
  {
   "cell_type": "markdown",
   "metadata": {},
   "source": [
    "A JFrame is a GUI object part of java's built in / base library. It is basically the frame and titlebar of a window that fits in nicely with your operating system.\n",
    "\n",
    "Official java documentation on JFrame class can be found [here](https://docs.oracle.com/en/java/javase/11/docs/api/java.desktop/javax/swing/JFrame.html)."
   ]
  },
  {
   "cell_type": "markdown",
   "metadata": {},
   "source": [
    "Create a new JFrame object and set title of window:"
   ]
  },
  {
   "cell_type": "code",
   "execution_count": 3,
   "metadata": {},
   "outputs": [],
   "source": [
    "JFrame frame = new JFrame(\"My Frame\");"
   ]
  },
  {
   "cell_type": "markdown",
   "metadata": {},
   "source": [
    "Set your preferred size for this frame. Dimension is a java.awt object that stores a width and a height:"
   ]
  },
  {
   "cell_type": "code",
   "execution_count": 4,
   "metadata": {},
   "outputs": [],
   "source": [
    "frame.setPreferredSize(new Dimension(500,500));"
   ]
  },
  {
   "cell_type": "markdown",
   "metadata": {},
   "source": [
    "Keep user from resizing the window:"
   ]
  },
  {
   "cell_type": "code",
   "execution_count": 5,
   "metadata": {},
   "outputs": [],
   "source": [
    "frame.setResizable(false);"
   ]
  },
  {
   "cell_type": "markdown",
   "metadata": {},
   "source": [
    "`pack()` is a method to set frame and its contents to the preferred sizes and constraints"
   ]
  },
  {
   "cell_type": "code",
   "execution_count": 6,
   "metadata": {},
   "outputs": [],
   "source": [
    "frame.pack();"
   ]
  },
  {
   "cell_type": "markdown",
   "metadata": {},
   "source": [
    "Set frame to visible:"
   ]
  },
  {
   "cell_type": "code",
   "execution_count": 7,
   "metadata": {},
   "outputs": [],
   "source": [
    "frame.setVisible(true);"
   ]
  },
  {
   "cell_type": "markdown",
   "metadata": {},
   "source": [
    "## Add JPanel to JFrame"
   ]
  },
  {
   "cell_type": "markdown",
   "metadata": {},
   "source": [
    "Without any content a JFrame is not very useful. Although it is not strictly necessary to have a JPanel inside a JFrame to draw to it, JPanels give more functionality to a frame."
   ]
  },
  {
   "cell_type": "code",
   "execution_count": 8,
   "metadata": {},
   "outputs": [],
   "source": [
    "JPanel panel = new JPanel();"
   ]
  },
  {
   "cell_type": "code",
   "execution_count": 9,
   "metadata": {},
   "outputs": [],
   "source": [
    "panel.setPreferredSize(new Dimension(500,500));"
   ]
  },
  {
   "cell_type": "markdown",
   "metadata": {},
   "source": [
    "Add the JPanel to our JFrame"
   ]
  },
  {
   "cell_type": "code",
   "execution_count": 10,
   "metadata": {},
   "outputs": [],
   "source": [
    "frame.add(panel);;"
   ]
  },
  {
   "cell_type": "markdown",
   "metadata": {},
   "source": [
    "Pack the JFrame again to set panel size to preferred size and position it correctly"
   ]
  },
  {
   "cell_type": "code",
   "execution_count": 11,
   "metadata": {},
   "outputs": [],
   "source": [
    "frame.pack();"
   ]
  },
  {
   "cell_type": "markdown",
   "metadata": {},
   "source": [
    "## Drawing to the frame or panel's graphics object"
   ]
  },
  {
   "cell_type": "markdown",
   "metadata": {},
   "source": [
    "We could use javax.swing's built in methods for drawing to the panel and frame. You can look them up, they are a family of methods related to `paintComponent(Graphics g)`. They come with lots of additional functionality. For example they will automatically repaint the panel under certain window and operating system events (e.g. uncovering a window behind another). However all these extra functionality just makes our game slower and is unneccesary. We will stop the built in drawing functionality and use our own basic (yet effective) method. This is called **Active Rendering**."
   ]
  },
  {
   "cell_type": "markdown",
   "metadata": {},
   "source": [
    "Ignore auto repaint events from JFrame and JPanel:"
   ]
  },
  {
   "cell_type": "code",
   "execution_count": 12,
   "metadata": {},
   "outputs": [],
   "source": [
    "frame.setIgnoreRepaint(true);\n",
    "panel.setIgnoreRepaint(true);"
   ]
  },
  {
   "cell_type": "markdown",
   "metadata": {},
   "source": [
    "Get the graphics object of the panel, so we can paint to it. This creates a buffer where we can add paint methods. As with all buffer objects remember to close the stream/dispose of them after use."
   ]
  },
  {
   "cell_type": "code",
   "execution_count": 13,
   "metadata": {},
   "outputs": [],
   "source": [
    "Graphics g = panel.getGraphics();"
   ]
  },
  {
   "cell_type": "markdown",
   "metadata": {},
   "source": [
    "Cast the Graphics object to a Graphics2D object, which has more relevant methods we will use for 2D drawing."
   ]
  },
  {
   "cell_type": "code",
   "execution_count": 14,
   "metadata": {},
   "outputs": [],
   "source": [
    "Graphics g2 = (Graphics2D) g;"
   ]
  },
  {
   "cell_type": "markdown",
   "metadata": {},
   "source": [
    "Now we can draw to this graphics object with various methods."
   ]
  },
  {
   "cell_type": "code",
   "execution_count": 15,
   "metadata": {},
   "outputs": [],
   "source": [
    "g2.drawString(\"Hello World!\", 50, 50);"
   ]
  },
  {
   "cell_type": "code",
   "execution_count": 16,
   "metadata": {},
   "outputs": [],
   "source": [
    "g2.drawString(\"How are you?\", 100, 100);"
   ]
  },
  {
   "cell_type": "code",
   "execution_count": 17,
   "metadata": {},
   "outputs": [],
   "source": [
    "g2.setColor(Color.BLUE);\n",
    "g2.drawRect(200,200,50,30);"
   ]
  },
  {
   "cell_type": "code",
   "execution_count": 18,
   "metadata": {},
   "outputs": [],
   "source": [
    "g2.setColor(Color.PINK);\n",
    "g2.fillOval(200,300,70,70);"
   ]
  },
  {
   "cell_type": "markdown",
   "metadata": {},
   "source": [
    "You can find a variety of methods for drawing different things in the official documentation of [Graphics2D](https://docs.oracle.com/en/java/javase/11/docs/api/java.desktop/java/awt/Graphics2D.html).\n",
    "\n",
    "By the way it is very handy to look up documentation of new classes or methods you come accross. For example just google `Graphics2D java 11` or `[ClassName] java 11` or `[MethodName] java 11`. Their official documentation and tutorials are actually quite good."
   ]
  },
  {
   "cell_type": "markdown",
   "metadata": {},
   "source": [
    "Finally dispose graphics object to close the buffer stream:"
   ]
  },
  {
   "cell_type": "code",
   "execution_count": 19,
   "metadata": {},
   "outputs": [],
   "source": [
    "g2.dispose()"
   ]
  },
  {
   "cell_type": "markdown",
   "metadata": {},
   "source": [
    "This is what you should see:"
   ]
  },
  {
   "cell_type": "markdown",
   "metadata": {},
   "source": [
    "![title](img/JFrame-JPanel-and-Drawing-Basics.png)"
   ]
  },
  {
   "cell_type": "markdown",
   "metadata": {},
   "source": [
    "### Code:"
   ]
  },
  {
   "cell_type": "markdown",
   "metadata": {},
   "source": [
    "    import java.awt.*;\n",
    "\n",
    "    import javax.swing.*;\n",
    "\n",
    "    public class Tut1 {\n",
    "\n",
    "        public static void main(String[] args) {\n",
    "\n",
    "            JFrame frame = new JFrame(\"My Frame\");\n",
    "            frame.setPreferredSize(new Dimension(500, 500));\n",
    "            frame.setResizable(false);\n",
    "            frame.pack();\n",
    "            frame.setVisible(true);\n",
    "\n",
    "            JPanel panel = new JPanel();\n",
    "            panel.setPreferredSize(new Dimension(500, 500));\n",
    "\n",
    "            frame.add(panel);\n",
    "            frame.pack();\n",
    "\n",
    "            frame.setIgnoreRepaint(true);\n",
    "            panel.setIgnoreRepaint(true);\n",
    "\n",
    "            Graphics g = panel.getGraphics();\n",
    "            Graphics g2 = (Graphics2D) g;\n",
    "\n",
    "            g2.drawString(\"Hello World!\", 50, 50);\n",
    "            g2.drawString(\"How are you?\", 100, 100);\n",
    "\n",
    "            g2.setColor(Color.BLUE);\n",
    "            g2.drawRect(200, 200, 50, 30);\n",
    "\n",
    "            g2.setColor(Color.PINK);\n",
    "            g2.fillOval(200, 300, 70, 70);\n",
    "\n",
    "            g2.dispose();\n",
    "\n",
    "        }\n",
    "\n",
    "    }"
   ]
  }
 ],
 "metadata": {
  "kernelspec": {
   "display_name": "Java",
   "language": "java",
   "name": "java"
  },
  "language_info": {
   "codemirror_mode": "java",
   "file_extension": ".jshell",
   "mimetype": "text/x-java-source",
   "name": "Java",
   "pygments_lexer": "java",
   "version": "14+36-1461"
  }
 },
 "nbformat": 4,
 "nbformat_minor": 2
}
