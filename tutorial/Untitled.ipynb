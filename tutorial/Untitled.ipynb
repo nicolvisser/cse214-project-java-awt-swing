{
 "cells": [
  {
   "cell_type": "markdown",
   "metadata": {},
   "source": []
  },
  {
   "cell_type": "markdown",
   "metadata": {},
   "source": [
    "# InvadersFrame"
   ]
  },
  {
   "cell_type": "markdown",
   "metadata": {},
   "source": [
    "InvadersFrame is an extension to the JFrame class\n",
    "\n",
    "    public class InvadersFrame extends JFrame {\n",
    "        ..."
   ]
  },
  {
   "cell_type": "markdown",
   "metadata": {},
   "source": [
    "It contains the main method for running the game. But you could just create an instance of the class and run it from another main method.\n",
    "\n",
    "For example:\n",
    "\n",
    "    InvadersFrame game = new InvadersFrame(true);\n",
    "    game.run()\n",
    "    \n",
    "... starts the game in fullscreen mode"
   ]
  },
  {
   "cell_type": "markdown",
   "metadata": {},
   "source": [
    "InvadersFrame adds the following functionality to a JFrame:\n",
    "\n"
   ]
  },
  {
   "cell_type": "markdown",
   "metadata": {},
   "source": [
    "### Initialising either in Full Screen Executive Mode `initFullScreenMode()`\n",
    "\n"
   ]
  },
  {
   "cell_type": "markdown",
   "metadata": {},
   "source": [
    "\n",
    "        GraphicsEnvironment ge = GraphicsEnvironment.getLocalGraphicsEnvironment();\n",
    "        GraphicsDevice gd = ge.getDefaultScreenDevice();\n",
    "        \n",
    "        if (!gd.isFullScreenSupported()) {\n",
    "            System.out.println(\"Full-screen exclusive mode not supported\");\n",
    "            System.exit(0);\n",
    "        }\n",
    "        gd.setFullScreenWindow(this);"
   ]
  },
  {
   "cell_type": "markdown",
   "metadata": {},
   "source": [
    "### Initialising either in Windowed Mode `initWindowedMode()`"
   ]
  },
  {
   "cell_type": "markdown",
   "metadata": {},
   "source": []
  },
  {
   "cell_type": "markdown",
   "metadata": {},
   "source": [
    "- Holds static variable t\n",
    "\n"
   ]
  },
  {
   "cell_type": "markdown",
   "metadata": {},
   "source": [
    "- Setting a double buffering strategy\n",
    "\n",
    "\n",
    "\n"
   ]
  },
  {
   "cell_type": "markdown",
   "metadata": {},
   "source": [
    "- Running the game loop\n",
    "\n"
   ]
  },
  {
   "cell_type": "markdown",
   "metadata": {},
   "source": [
    "- Draws FPS\n",
    "\n"
   ]
  },
  {
   "cell_type": "code",
   "execution_count": null,
   "metadata": {},
   "outputs": [],
   "source": []
  }
 ],
 "metadata": {
  "kernelspec": {
   "display_name": "Java",
   "language": "java",
   "name": "java"
  },
  "language_info": {
   "codemirror_mode": "java",
   "file_extension": ".jshell",
   "mimetype": "text/x-java-source",
   "name": "Java",
   "pygments_lexer": "java",
   "version": "14+36-1461"
  }
 },
 "nbformat": 4,
 "nbformat_minor": 2
}
